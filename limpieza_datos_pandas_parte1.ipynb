{
 "cells": [
  {
   "cell_type": "markdown",
   "metadata": {},
   "source": [
    "# 🧹 Masterclass de Limpieza de Datos con Pandas - Parte 1\n",
    "\n",
    "## Contenido\n",
    "1. [Introducción y Setup](#1)\n",
    "2. [Creación de Datos de Ejemplo](#2)\n",
    "3. [Exploración Inicial de Datos](#3)\n",
    "4. [Manejo de Valores Nulos](#4)\n",
    "5. [Eliminación de Duplicados](#5)\n",
    "6. [Corrección de Tipos de Datos](#6)\n",
    "\n",
    "---\n",
    "\n",
    "### Introducción\n",
    "En este notebook aprenderemos técnicas avanzadas de limpieza de datos utilizando pandas. La limpieza de datos es una de las tareas más importantes y que más tiempo consume en el análisis de datos, por lo que dominar estas técnicas es fundamental."
   ]
  },
  {
   "cell_type": "markdown",
   "metadata": {},
   "source": [
    "<a id='1'></a>\n",
    "## 1. Introducción y Setup\n",
    "\n",
    "Primero importamos las bibliotecas necesarias:"
   ]
  },
  {
   "cell_type": "code",
   "execution_count": null,
   "metadata": {},
   "source": [
    "import pandas as pd\n",
    "import numpy as np\n",
    "import random\n",
    "from datetime import datetime, timedelta\n",
    "\n",
    "# Configuraciones de visualización\n",
    "pd.set_option('display.max_columns', None)\n",
    "pd.set_option('display.max_rows', 100)\n",
    "pd.set_option('display.float_format', lambda x: '%.2f' % x)"
   ]
  },
  {
   "cell_type": "markdown",
   "metadata": {},
   "source": [
    "<a id='2'></a>\n",
    "## 2. Creación de Datos de Ejemplo\n",
    "\n",
    "Vamos a crear un dataset que simule datos de ventas de una tienda con varios problemas comunes:"
   ]
  },
  {
   "cell_type": "code",
   "execution_count": null,
   "metadata": {},
   "source": [
    "# Función para generar fechas aleatorias con diferentes formatos\n",
    "def generar_fecha_aleatoria():\n",
    "    start_date = datetime(2022, 1, 1)\n",
    "    end_date = datetime(2023, 12, 31)\n",
    "    random_date = start_date + timedelta(days=random.randint(0, (end_date - start_date).days))\n",
    "    \n",
    "    formatos = [\n",
    "        '%Y-%m-%d',        # 2023-12-31\n",
    "        '%d/%m/%Y',        # 31/12/2023\n",
    "        '%d-%b-%Y',        # 31-Dec-2023\n",
    "        '%Y.%m.%d',        # 2023.12.31\n",
    "        '%d-%m-%y'         # 31-12-23\n",
    "    ]\n",
    "    \n",
    "    formato = random.choice(formatos)\n",
    "    return random_date.strftime(formato)\n",
    "\n",
    "# Crear categorías de productos con errores típicos\n",
    "categorias_correctas = ['Electrónica', 'Ropa', 'Hogar', 'Deportes', 'Libros']\n",
    "categorias_con_errores = {\n",
    "    'Electrónica': ['electronica', 'Electronica', 'ELECTRONICA', 'Electrnica', 'Electronca'],\n",
    "    'Ropa': ['ropa', 'ROPA', 'Roppa', 'Rops', 'Vestimenta'],\n",
    "    'Hogar': ['hogar', 'HOGAR', 'Hogr', 'Casa', 'HOME'],\n",
    "    'Deportes': ['deportes', 'DEPORTES', 'Deports', 'Sports', 'Deportivo'],\n",
    "    'Libros': ['libros', 'LIBROS', 'Libreria', 'Books', 'Libross']\n",
    "}\n",
    "\n",
    "# Generar datos\n",
    "n_registros = 1000\n",
    "data = {\n",
    "    'fecha_venta': [generar_fecha_aleatoria() for _ in range(n_registros)],\n",
    "    'id_producto': [f'PROD_{random.randint(100, 999)}' for _ in range(n_registros)],\n",
    "    'categoria': [],\n",
    "    'precio': [round(random.uniform(10, 1000), 2) for _ in range(n_registros)],\n",
    "    'cantidad': [random.randint(1, 10) for _ in range(n_registros)],\n",
    "    'id_cliente': [f'CLI_{random.randint(1000, 9999)}' for _ in range(n_registros)],\n",
    "    'rating': [random.randint(1, 5) if random.random() > 0.2 else None for _ in range(n_registros)]\n",
    "}\n",
    "\n",
    "# Generar categorías con errores\n",
    "for _ in range(n_registros):\n",
    "    categoria_correcta = random.choice(categorias_correctas)\n",
    "    if random.random() < 0.7:  # 70% de probabilidad de tener un error\n",
    "        categoria = random.choice(categorias_con_errores[categoria_correcta])\n",
    "    else:\n",
    "        categoria = categoria_correcta\n",
    "    data['categoria'].append(categoria)\n",
    "\n",
    "# Crear DataFrame\n",
    "df = pd.DataFrame(data)\n",
    "\n",
    "# Introducir algunos valores nulos\n",
    "df.loc[random.sample(range(n_registros), 50), 'precio'] = None\n",
    "df.loc[random.sample(range(n_registros), 30), 'id_cliente'] = None\n",
    "\n",
    "# Introducir algunos duplicados\n",
    "duplicados = df.sample(n=50)\n",
    "df = pd.concat([df, duplicados])\n",
    "\n",
    "# Mostrar las primeras filas del DataFrame\n",
    "print(\"Dimensiones del DataFrame:\", df.shape)\n",
    "df.head(10)"
   ]
  },
  {
   "cell_type": "markdown",
   "metadata": {},
   "source": [
    "<a id='3'></a>\n",
    "## 3. Exploración Inicial de Datos\n",
    "\n",
    "Antes de comenzar con la limpieza, es importante entender nuestros datos:"
   ]
  },
  {
   "cell_type": "code",
   "execution_count": null,
   "metadata": {},
   "source": [
    "# Información general del DataFrame\n",
    "print(\"\\n=== Información General ===\")\n",
    "df.info()\n",
    "\n",
    "# Estadísticas descriptivas\n",
    "print(\"\\n=== Estadísticas Descriptivas ===\")\n",
    "print(df.describe())\n",
    "\n",
    "# Valores nulos por columna\n",
    "print(\"\\n=== Valores Nulos por Columna ===\")\n",
    "print(df.isnull().sum())\n",
    "\n",
    "# Valores únicos en categorías\n",
    "print(\"\\n=== Valores Únicos en Categoría ===\")\n",
    "print(df['categoria'].value_counts())\n",
    "\n",
    "# Muestra de diferentes formatos de fecha\n",
    "print(\"\\n=== Muestra de Formatos de Fecha ===\")\n",
    "print(df['fecha_venta'].head(10))"
   ]
  },
  {
   "cell_type": "markdown",
   "metadata": {},
   "source": [
    "<a id='4'></a>\n",
    "## 4. Manejo de Valores Nulos\n",
    "\n",
    "Vamos a tratar los valores nulos de diferentes maneras según la columna:"
   ]
  },
  {
   "cell_type": "code",
   "execution_count": null,
   "metadata": {},
   "source": [
    "# Crear una copia del DataFrame original\n",
    "df_limpio = df.copy()\n",
    "\n",
    "# 1. Para precio: rellenar con la mediana\n",
    "mediana_precio = df_limpio['precio'].median()\n",
    "df_limpio['precio'] = df_limpio['precio'].fillna(mediana_precio)\n",
    "\n",
    "# 2. Para rating: rellenar con 0 (asumiendo que la falta de rating significa que no se evaluó)\n",
    "df_limpio['rating'] = df_limpio['rating'].fillna(0)\n",
    "\n",
    "# 3. Para id_cliente: crear una categoría 'UNKNOWN'\n",
    "df_limpio['id_cliente'] = df_limpio['id_cliente'].fillna('CLI_UNKNOWN')\n",
    "\n",
    "# Verificar que no quedan valores nulos\n",
    "print(\"Valores nulos después de la limpieza:\")\n",
    "print(df_limpio.isnull().sum())"
   ]
  },
  {
   "cell_type": "markdown",
   "metadata": {},
   "source": [
    "<a id='5'></a>\n",
    "## 5. Eliminación de Duplicados\n",
    "\n",
    "Vamos a identificar y eliminar registros duplicados:"
   ]
  },
  {
   "cell_type": "code",
   "execution_count": null,
   "metadata": {},
   "source": [
    "# Verificar duplicados exactos\n",
    "print(\"Número de duplicados exactos:\", df_limpio.duplicated().sum())\n",
    "\n",
    "# Mostrar algunos ejemplos de duplicados\n",
    "print(\"\\nEjemplos de registros duplicados:\")\n",
    "print(df_limpio[df_limpio.duplicated(keep=False)].sort_values(by='id_producto').head())\n",
    "\n",
    "# Eliminar duplicados\n",
    "df_limpio = df_limpio.drop_duplicates()\n",
    "\n",
    "print(\"\\nDimensiones después de eliminar duplicados:\", df_limpio.shape)"
   ]
  },
  {
   "cell_type": "markdown",
   "metadata": {},
   "source": [
    "<a id='6'></a>\n",
    "## 6. Corrección de Tipos de Datos\n",
    "\n",
    "Vamos a asegurarnos de que cada columna tenga el tipo de dato correcto:"
   ]
  },
  {
   "cell_type": "code",
   "execution_count": null,
   "metadata": {},
   "source": [
    "# Mostrar tipos de datos actuales\n",
    "print(\"Tipos de datos antes de la corrección:\")\n",
    "print(df_limpio.dtypes)\n",
    "\n",
    "# Convertir precio a float\n",
    "df_limpio['precio'] = pd.to_numeric(df_limpio['precio'], errors='coerce')\n",
    "\n",
    "# Convertir cantidad a int\n",
    "df_limpio['cantidad'] = df_limpio['cantidad'].astype(int)\n",
    "\n",
    "# Convertir rating a int\n",
    "df_limpio['rating'] = df_limpio['rating'].astype(int)\n",
    "\n",
    "print(\"\\nTipos de datos después de la corrección:\")\n",
    "print(df_limpio.dtypes)\n",
    "\n",
    "# Mostrar un resumen del DataFrame limpio\n",
    "print(\"\\nResumen del DataFrame limpio:\")\n",
    "df_limpio.head()"
   ]
  },
  {
   "cell_type": "markdown",
   "metadata": {},
   "source": [
    "## Conclusiones de la Parte 1\n",
    "\n",
    "En esta primera parte hemos cubierto:\n",
    "1. Creación de un dataset con problemas comunes\n",
    "2. Exploración inicial de datos\n",
    "3. Manejo de valores nulos\n",
    "4. Eliminación de duplicados\n",
    "5. Corrección de tipos de datos\n",
    "\n",
    "En la Parte 2 continuaremos con:\n",
    "- Limpieza de fechas con regex\n",
    "- Estandarización de categorías\n",
    "- Detección y manejo de outliers\n",
    "- Técnicas avanzadas de limpieza"
   ]
  }
 ],
 "metadata": {
  "kernelspec": {
   "display_name": "Python 3",
   "language": "python",
   "name": "python3"
  },
  "language_info": {
   "codemirror_mode": {
    "name": "ipython",
    "version": 3
   },
   "file_extension": ".py",
   "mimetype": "text/x-python",
   "name": "python",
   "nbconvert_exporter": "python",
   "pygments_lexer": "ipython3",
   "version": "3.8.5"
  }
 },
 "nbformat": 4,
 "nbformat_minor": 4
}
