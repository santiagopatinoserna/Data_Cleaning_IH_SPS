{
 "cells": [
  {
   "cell_type": "markdown",
   "metadata": {},
   "source": [
    "# 🧹 Ejercicio Práctico de Limpieza de Datos\n",
    "\n",
    "## Objetivo\n",
    "\n",
    "En este ejercicio, trabajarás con un dataset que simula datos de una tienda online de tecnología. El dataset contiene varios problemas comunes que necesitarás resolver utilizando las técnicas aprendidas en los notebooks anteriores.\n",
    "\n",
    "## Tareas\n",
    "\n",
    "1. Explorar y analizar los datos iniciales\n",
    "2. Limpiar y estandarizar las fechas\n",
    "3. Manejar valores nulos\n",
    "4. Estandarizar categorías de productos\n",
    "5. Detectar y manejar outliers en precios\n",
    "6. Validar correos electrónicos\n",
    "7. Crear métricas de ventas\n",
    "\n",
    "## Dataset\n",
    "\n",
    "El dataset contiene las siguientes columnas:\n",
    "- fecha_compra: Fecha de la transacción (en diferentes formatos)\n",
    "- producto: Nombre del producto\n",
    "- categoria: Categoría del producto (con inconsistencias)\n",
    "- precio: Precio del producto (con outliers y valores nulos)\n",
    "- cantidad: Cantidad comprada\n",
    "- email_cliente: Email del cliente (algunos inválidos)\n",
    "- pais: País de la compra (con inconsistencias y valores nulos)"
   ]
  },
  {
   "cell_type": "code",
   "execution_count": 2,
   "metadata": {},
   "outputs": [],
   "source": [
    "import pandas as pd\n",
    "import numpy as np\n",
    "import matplotlib.pyplot as plt\n",
    "import seaborn as sns\n",
    "from datetime import datetime\n",
    "import re\n",
    "\n",
    "# Configuraciones\n",
    "pd.set_option('display.max_columns', None)\n"
   ]
  },
  {
   "cell_type": "code",
   "execution_count": 3,
   "metadata": {},
   "outputs": [
    {
     "name": "stdout",
     "output_type": "stream",
     "text": [
      "Primeras filas del dataset:\n"
     ]
    },
    {
     "data": {
      "text/html": [
       "<div>\n",
       "<style scoped>\n",
       "    .dataframe tbody tr th:only-of-type {\n",
       "        vertical-align: middle;\n",
       "    }\n",
       "\n",
       "    .dataframe tbody tr th {\n",
       "        vertical-align: top;\n",
       "    }\n",
       "\n",
       "    .dataframe thead th {\n",
       "        text-align: right;\n",
       "    }\n",
       "</style>\n",
       "<table border=\"1\" class=\"dataframe\">\n",
       "  <thead>\n",
       "    <tr style=\"text-align: right;\">\n",
       "      <th></th>\n",
       "      <th>fecha_compra</th>\n",
       "      <th>producto</th>\n",
       "      <th>categoria</th>\n",
       "      <th>precio</th>\n",
       "      <th>cantidad</th>\n",
       "      <th>email_cliente</th>\n",
       "      <th>pais</th>\n",
       "    </tr>\n",
       "  </thead>\n",
       "  <tbody>\n",
       "    <tr>\n",
       "      <th>0</th>\n",
       "      <td>01-01-23</td>\n",
       "      <td>Samsung S23</td>\n",
       "      <td>Accessories</td>\n",
       "      <td>1086.255392</td>\n",
       "      <td>3</td>\n",
       "      <td>cliente0@ejemplo.com</td>\n",
       "      <td>España</td>\n",
       "    </tr>\n",
       "    <tr>\n",
       "      <th>1</th>\n",
       "      <td>2023.01.01</td>\n",
       "      <td>USB-C Hub</td>\n",
       "      <td>TABs</td>\n",
       "      <td>1010.445567</td>\n",
       "      <td>3</td>\n",
       "      <td>cliente1@ejemplo.com</td>\n",
       "      <td>MEX</td>\n",
       "    </tr>\n",
       "    <tr>\n",
       "      <th>2</th>\n",
       "      <td>2023-01-01</td>\n",
       "      <td>MacBook Pro</td>\n",
       "      <td>ACCESORIOS</td>\n",
       "      <td>148.719925</td>\n",
       "      <td>3</td>\n",
       "      <td>cliente2@ejemplo.com</td>\n",
       "      <td>Mexico</td>\n",
       "    </tr>\n",
       "    <tr>\n",
       "      <th>3</th>\n",
       "      <td>02-01-23</td>\n",
       "      <td>iPad Pro</td>\n",
       "      <td>ACC</td>\n",
       "      <td>748.370872</td>\n",
       "      <td>3</td>\n",
       "      <td>cliente3@ejemplo.com</td>\n",
       "      <td>españa</td>\n",
       "    </tr>\n",
       "    <tr>\n",
       "      <th>4</th>\n",
       "      <td>02-01-23</td>\n",
       "      <td>MacBook Pro</td>\n",
       "      <td>SMARTPHONES</td>\n",
       "      <td>822.371676</td>\n",
       "      <td>4</td>\n",
       "      <td>cliente4@ejemplo.com</td>\n",
       "      <td>ESP</td>\n",
       "    </tr>\n",
       "  </tbody>\n",
       "</table>\n",
       "</div>"
      ],
      "text/plain": [
       "  fecha_compra     producto    categoria       precio  cantidad  \\\n",
       "0     01-01-23  Samsung S23  Accessories  1086.255392         3   \n",
       "1   2023.01.01    USB-C Hub         TABs  1010.445567         3   \n",
       "2   2023-01-01  MacBook Pro   ACCESORIOS   148.719925         3   \n",
       "3     02-01-23     iPad Pro          ACC   748.370872         3   \n",
       "4     02-01-23  MacBook Pro  SMARTPHONES   822.371676         4   \n",
       "\n",
       "          email_cliente    pais  \n",
       "0  cliente0@ejemplo.com  España  \n",
       "1  cliente1@ejemplo.com     MEX  \n",
       "2  cliente2@ejemplo.com  Mexico  \n",
       "3  cliente3@ejemplo.com  españa  \n",
       "4  cliente4@ejemplo.com     ESP  "
      ]
     },
     "metadata": {},
     "output_type": "display_data"
    },
    {
     "name": "stdout",
     "output_type": "stream",
     "text": [
      "\n",
      "Información del dataset:\n",
      "<class 'pandas.core.frame.DataFrame'>\n",
      "Index: 1050 entries, 0 to 688\n",
      "Data columns (total 7 columns):\n",
      " #   Column         Non-Null Count  Dtype  \n",
      "---  ------         --------------  -----  \n",
      " 0   fecha_compra   1050 non-null   object \n",
      " 1   producto       1050 non-null   object \n",
      " 2   categoria      1050 non-null   object \n",
      " 3   precio         998 non-null    float64\n",
      " 4   cantidad       1050 non-null   int64  \n",
      " 5   email_cliente  1050 non-null   object \n",
      " 6   pais           1017 non-null   object \n",
      "dtypes: float64(1), int64(1), object(5)\n",
      "memory usage: 65.6+ KB\n",
      "None\n",
      "\n",
      "Valores nulos por columna:\n",
      "fecha_compra      0\n",
      "producto          0\n",
      "categoria         0\n",
      "precio           52\n",
      "cantidad          0\n",
      "email_cliente     0\n",
      "pais             33\n",
      "dtype: int64\n"
     ]
    }
   ],
   "source": [
    "# Crear dataset de ejemplo con problemas\n",
    "np.random.seed(42)\n",
    "n = 1000\n",
    "\n",
    "# Generar fechas en diferentes formatos\n",
    "fechas_base = pd.date_range(start='2023-01-01', end='2023-12-31', periods=n)\n",
    "formatos_fecha = ['%Y-%m-%d', '%d/%m/%Y', '%d-%m-%y', '%Y.%m.%d']\n",
    "fechas = [f.strftime(np.random.choice(formatos_fecha)) for f in fechas_base]\n",
    "\n",
    "# Productos y categorías con inconsistencias\n",
    "productos = {\n",
    "    'Laptops': ['MacBook Pro', 'Dell XPS', 'HP Pavilion', 'Lenovo ThinkPad'],\n",
    "    'Smartphones': ['iPhone 14', 'Samsung S23', 'Google Pixel', 'Xiaomi 13'],\n",
    "    'Tablets': ['iPad Pro', 'Samsung Tab', 'Lenovo Tab', 'Amazon Fire'],\n",
    "    'Accesorios': ['AirPods Pro', 'Magic Mouse', 'USB-C Hub', 'Power Bank']\n",
    "}\n",
    "\n",
    "categorias_inconsistentes = {\n",
    "    'Laptops': ['laptops', 'LAPTOPS', 'Portatiles', 'Notebooks'],\n",
    "    'Smartphones': ['smartphones', 'Celulares', 'Moviles', 'SMARTPHONES'],\n",
    "    'Tablets': ['tablets', 'TABLETS', 'Tabletas', 'TABs'],\n",
    "    'Accesorios': ['accesorios', 'ACCESORIOS', 'Accessories', 'ACC']\n",
    "}\n",
    "\n",
    "# Generar datos\n",
    "todos_productos = [item for sublist in productos.values() for item in sublist]\n",
    "todas_categorias = [item for sublist in categorias_inconsistentes.values() for item in sublist]\n",
    "\n",
    "df = pd.DataFrame({\n",
    "    'fecha_compra': fechas,\n",
    "    'producto': np.random.choice(todos_productos, n),\n",
    "    'categoria': np.random.choice(todas_categorias, n),\n",
    "    'precio': np.random.uniform(100, 2000, n),\n",
    "    'cantidad': np.random.randint(1, 5, n),\n",
    "    'email_cliente': [f'cliente{i}@ejemplo.com' if np.random.random() > 0.1 \n",
    "                      else np.random.choice(['invalido@.com', 'cliente@', '@dominio.com']) \n",
    "                      for i in range(n)],\n",
    "    'pais': np.random.choice(['España', 'españa', 'ESPAÑA', 'ESP', \n",
    "                             'Mexico', 'méxico', 'MEXICO', 'MEX'], n)\n",
    "})\n",
    "\n",
    "# Introducir problemas\n",
    "# 1. Valores nulos\n",
    "df.loc[np.random.choice(n, 50), 'precio'] = None\n",
    "df.loc[np.random.choice(n, 30), 'pais'] = None\n",
    "\n",
    "# 2. Outliers en precios\n",
    "df.loc[np.random.choice(n, 10), 'precio'] = np.random.uniform(5000, 10000, 10)\n",
    "\n",
    "# 3. Duplicados\n",
    "df = pd.concat([df, df.sample(n=50)])\n",
    "\n",
    "# Mostrar primeras filas y información del dataset\n",
    "print(\"Primeras filas del dataset:\")\n",
    "display(df.head())\n",
    "\n",
    "print(\"\\nInformación del dataset:\")\n",
    "print(df.info())\n",
    "\n",
    "print(\"\\nValores nulos por columna:\")\n",
    "print(df.isnull().sum())"
   ]
  },
  {
   "cell_type": "markdown",
   "metadata": {},
   "source": [
    "## Ejercicios\n",
    "\n",
    "### 1. Exploración Inicial\n",
    "- Realiza un análisis exploratorio de los datos\n",
    "- Identifica los principales problemas en cada columna\n",
    "- Crea visualizaciones para entender mejor los datos"
   ]
  },
  {
   "cell_type": "code",
   "execution_count": null,
   "metadata": {},
   "outputs": [],
   "source": [
    "# Tu código aquí\n"
   ]
  },
  {
   "cell_type": "markdown",
   "metadata": {},
   "source": [
    "### 2. Limpieza de Fechas\n",
    "- Identifica los diferentes formatos de fecha presentes\n",
    "- Crea una función para estandarizar todas las fechas a formato ISO (YYYY-MM-DD)\n",
    "- Verifica que todas las fechas se han convertido correctamente"
   ]
  },
  {
   "cell_type": "code",
   "execution_count": null,
   "metadata": {},
   "outputs": [],
   "source": [
    "# Tu código aquí\n"
   ]
  },
  {
   "cell_type": "markdown",
   "metadata": {},
   "source": [
    "### 3. Manejo de Valores Nulos\n",
    "- Analiza los valores nulos en cada columna\n",
    "- Decide la mejor estrategia para cada tipo de valor nulo\n",
    "- Implementa las estrategias de imputación elegidas"
   ]
  },
  {
   "cell_type": "code",
   "execution_count": null,
   "metadata": {},
   "outputs": [],
   "source": [
    "# Tu código aquí\n"
   ]
  },
  {
   "cell_type": "markdown",
   "metadata": {},
   "source": [
    "### 4. Estandarización de Categorías\n",
    "- Identifica todas las variantes de cada categoría\n",
    "- Crea un sistema de mapeo para estandarizar las categorías\n",
    "- Aplica la estandarización y verifica los resultados"
   ]
  },
  {
   "cell_type": "code",
   "execution_count": null,
   "metadata": {},
   "outputs": [],
   "source": [
    "# Tu código aquí\n"
   ]
  },
  {
   "cell_type": "markdown",
   "metadata": {},
   "source": [
    "### 5. Detección y Manejo de Outliers\n",
    "- Identifica outliers en la columna de precios\n",
    "- Visualiza la distribución de precios\n",
    "- Implementa una estrategia para manejar los outliers"
   ]
  },
  {
   "cell_type": "code",
   "execution_count": null,
   "metadata": {},
   "outputs": [],
   "source": [
    "# Tu código aquí\n"
   ]
  },
  {
   "cell_type": "markdown",
   "metadata": {},
   "source": [
    "### 6. Validación de Emails\n",
    "- Crea una función para validar formatos de email\n",
    "- Identifica y marca los emails inválidos\n",
    "- Decide cómo manejar los emails inválidos"
   ]
  },
  {
   "cell_type": "code",
   "execution_count": null,
   "metadata": {},
   "outputs": [],
   "source": [
    "# Tu código aquí\n"
   ]
  },
  {
   "cell_type": "markdown",
   "metadata": {},
   "source": [
    "### 7. Métricas de Ventas\n",
    "- Calcula el total de ventas por categoría\n",
    "- Identifica los productos más vendidos\n",
    "- Crea visualizaciones para mostrar las tendencias de ventas"
   ]
  },
  {
   "cell_type": "code",
   "execution_count": null,
   "metadata": {},
   "outputs": [],
   "source": [
    "# Tu código aquí\n"
   ]
  },
  {
   "cell_type": "markdown",
   "metadata": {},
   "source": [
    "## Bonus: Automatización\n",
    "\n",
    "Como desafío adicional, crea una clase `LimpiadorDatos` que automatice todo el proceso de limpieza anterior. La clase debería:\n",
    "\n",
    "1. Recibir el DataFrame como input\n",
    "2. Tener métodos para cada tipo de limpieza\n",
    "3. Permitir encadenar operaciones\n",
    "4. Generar un reporte de los cambios realizados"
   ]
  },
  {
   "cell_type": "code",
   "execution_count": null,
   "metadata": {},
   "outputs": [],
   "source": [
    "# Tu código aquí\n"
   ]
  }
 ],
 "metadata": {
  "kernelspec": {
   "display_name": "base",
   "language": "python",
   "name": "python3"
  },
  "language_info": {
   "codemirror_mode": {
    "name": "ipython",
    "version": 3
   },
   "file_extension": ".py",
   "mimetype": "text/x-python",
   "name": "python",
   "nbconvert_exporter": "python",
   "pygments_lexer": "ipython3",
   "version": "3.12.5"
  }
 },
 "nbformat": 4,
 "nbformat_minor": 4
}
